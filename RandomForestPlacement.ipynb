{
  "nbformat": 4,
  "nbformat_minor": 0,
  "metadata": {
    "colab": {
      "provenance": []
    },
    "kernelspec": {
      "name": "python3",
      "display_name": "Python 3"
    },
    "language_info": {
      "name": "python"
    }
  },
  "cells": [
    {
      "cell_type": "code",
      "execution_count": 1,
      "metadata": {
        "id": "hwDMIC9RAE8O"
      },
      "outputs": [],
      "source": [
        "import pandas as pd\n",
        "from sklearn.preprocessing import MinMaxScaler, LabelEncoder, OneHotEncoder\n",
        "import numpy as np\n",
        "from sklearn.model_selection import train_test_split\n",
        "from sklearn.metrics import accuracy_score, classification_report, confusion_matrix, mean_squared_error\n",
        "from sklearn.metrics import confusion_matrix\n",
        "from sklearn.metrics import roc_curve, auc"
      ]
    },
    {
      "cell_type": "code",
      "source": [
        "df = pd.read_csv(\"/content/Placements_Dataset - Sheet1.csv\")"
      ],
      "metadata": {
        "id": "xHbiNc6FAeyH"
      },
      "execution_count": 3,
      "outputs": []
    },
    {
      "cell_type": "code",
      "source": [
        "\n",
        "#Data Preprocessing\n",
        "df.drop(columns=['sl_no'], inplace=True)\n",
        "\n",
        "gender_encoder = LabelEncoder()\n",
        "df['gender'] = gender_encoder.fit_transform(df['gender'])\n",
        "\n",
        "ssc_scaler = MinMaxScaler()\n",
        "df['ssc_p'] = ssc_scaler.fit_transform(df[['ssc_p']])\n",
        "\n",
        "\n",
        "ssc_b_encoder = LabelEncoder()\n",
        "df['ssc_b'] = ssc_b_encoder.fit_transform(df['ssc_b'])\n",
        "\n",
        "\n",
        "hsc_scaler = MinMaxScaler()\n",
        "df['hsc_p'] = hsc_scaler.fit_transform(df[['hsc_p']])\n",
        "\n",
        "\n",
        "hsc_b_encoder = LabelEncoder()\n",
        "df['hsc_b'] = hsc_b_encoder.fit_transform(df['hsc_b'])\n",
        "\n",
        "\n",
        "hsc_s_encoder = LabelEncoder()\n",
        "df['hsc_s'] = hsc_s_encoder.fit_transform(df['hsc_s'])\n",
        "\n",
        "\n",
        "degree_scaler = MinMaxScaler()\n",
        "df['degree_p'] = degree_scaler.fit_transform(df[['degree_p']])\n",
        "\n",
        "\n",
        "degree_t_encoder = LabelEncoder()\n",
        "df['degree_t'] = degree_t_encoder.fit_transform(df['degree_t'])\n",
        "\n",
        "\n",
        "workex_encoder = OneHotEncoder()\n",
        "workex_encoded = workex_encoder.fit_transform(df[['workex']]).toarray()\n",
        "workex_df = pd.DataFrame(workex_encoded, columns=['workex_No', 'workex_Yes'])\n",
        "df = pd.concat([df, workex_df], axis=1)\n",
        "df.drop(columns=['workex'], inplace=True)\n",
        "\n",
        "\n",
        "apt_test_scaler = MinMaxScaler()\n",
        "df['apt_test_p'] = apt_test_scaler.fit_transform(df[['apt_test_p']])\n",
        "\n",
        "\n",
        "specialisation_encoder = OneHotEncoder()\n",
        "specialisation_encoded = specialisation_encoder.fit_transform(df[['specialisation']]).toarray()\n",
        "specialisation_df = pd.DataFrame(specialisation_encoded, columns=['specialisation_Mkt&HR', 'specialisation_Mkt&Fin'])\n",
        "df = pd.concat([df, specialisation_df], axis=1)\n",
        "df.drop(columns=['specialisation'], inplace=True)\n",
        "\n",
        "\n",
        "mba_scaler = MinMaxScaler()\n",
        "df['mba_p'] = mba_scaler.fit_transform(df[['mba_p']])\n",
        "\n",
        "\n",
        "status_encoder = LabelEncoder()\n",
        "df['status'] = status_encoder.fit_transform(df['status'])\n",
        "\n",
        "\n",
        "df.rename(columns={'status': 'placed'}, inplace=True)\n",
        "\n",
        "\n",
        "cols = [col for col in df.columns if col != 'placed'] + ['placed']\n",
        "df = df[cols]\n",
        "salary_bands = [(0, 250000), (250000, 350000), (350000, 450000), (450000, 550000), (550000, float('inf'))]\n",
        "labels = [1, 2, 3, 4, 5]\n",
        "\n",
        "def map_salary_to_band(salary):\n",
        "    for i, (lower, upper) in enumerate(salary_bands):\n",
        "        if salary >= lower and salary < upper:\n",
        "            return labels[i]\n",
        "    return labels[-1]\n",
        "\n",
        "df['salary_band'] = df['salary'].apply(map_salary_to_band)\n",
        "\n",
        "df.loc[df['placed'] == 0, 'salary'] = np.nan\n",
        "df.loc[df['placed'] == 0, 'salary_band'] = np.nan\n",
        "df.drop(columns=['salary'], inplace=True)\n",
        "df['salary_band'].fillna(0, inplace=True)"
      ],
      "metadata": {
        "id": "W2fWV2VSAb0W"
      },
      "execution_count": 4,
      "outputs": []
    },
    {
      "cell_type": "code",
      "source": [
        "df.head()"
      ],
      "metadata": {
        "colab": {
          "base_uri": "https://localhost:8080/",
          "height": 226
        },
        "id": "ZpA3khbCAlKt",
        "outputId": "bb8f8ccc-05da-4eef-e35a-3f2cc3b3fa5a"
      },
      "execution_count": 5,
      "outputs": [
        {
          "output_type": "execute_result",
          "data": {
            "text/plain": [
              "   gender     ssc_p  ssc_b     hsc_p  hsc_b  hsc_s  degree_p  degree_t  \\\n",
              "0       1  0.538240      1  0.889621      1      1  0.195122         2   \n",
              "1       1  0.792414      0  0.680890      1      2  0.670244         2   \n",
              "2       1  0.497011      0  0.510708      0      0  0.341463         0   \n",
              "3       1  0.311482      0  0.247117      0      2  0.048780         2   \n",
              "4       1  0.925788      0  0.602965      0      1  0.568293         0   \n",
              "\n",
              "   apt_test_p     mba_p  workex_No  workex_Yes  specialisation_Mkt&HR  \\\n",
              "0    0.104167  0.284483        1.0         0.0                    0.0   \n",
              "1    0.760417  0.564843        0.0         1.0                    1.0   \n",
              "2    0.520833  0.247001        1.0         0.0                    1.0   \n",
              "3    0.333333  0.308096        1.0         0.0                    0.0   \n",
              "4    0.975000  0.160795        1.0         0.0                    1.0   \n",
              "\n",
              "   specialisation_Mkt&Fin  placed  salary_band  \n",
              "0                     1.0       1          2.0  \n",
              "1                     0.0       1          1.0  \n",
              "2                     0.0       1          2.0  \n",
              "3                     1.0       0          0.0  \n",
              "4                     0.0       1          3.0  "
            ],
            "text/html": [
              "\n",
              "  <div id=\"df-d869268e-73fd-41f8-8f60-9324fc5ff383\" class=\"colab-df-container\">\n",
              "    <div>\n",
              "<style scoped>\n",
              "    .dataframe tbody tr th:only-of-type {\n",
              "        vertical-align: middle;\n",
              "    }\n",
              "\n",
              "    .dataframe tbody tr th {\n",
              "        vertical-align: top;\n",
              "    }\n",
              "\n",
              "    .dataframe thead th {\n",
              "        text-align: right;\n",
              "    }\n",
              "</style>\n",
              "<table border=\"1\" class=\"dataframe\">\n",
              "  <thead>\n",
              "    <tr style=\"text-align: right;\">\n",
              "      <th></th>\n",
              "      <th>gender</th>\n",
              "      <th>ssc_p</th>\n",
              "      <th>ssc_b</th>\n",
              "      <th>hsc_p</th>\n",
              "      <th>hsc_b</th>\n",
              "      <th>hsc_s</th>\n",
              "      <th>degree_p</th>\n",
              "      <th>degree_t</th>\n",
              "      <th>apt_test_p</th>\n",
              "      <th>mba_p</th>\n",
              "      <th>workex_No</th>\n",
              "      <th>workex_Yes</th>\n",
              "      <th>specialisation_Mkt&amp;HR</th>\n",
              "      <th>specialisation_Mkt&amp;Fin</th>\n",
              "      <th>placed</th>\n",
              "      <th>salary_band</th>\n",
              "    </tr>\n",
              "  </thead>\n",
              "  <tbody>\n",
              "    <tr>\n",
              "      <th>0</th>\n",
              "      <td>1</td>\n",
              "      <td>0.538240</td>\n",
              "      <td>1</td>\n",
              "      <td>0.889621</td>\n",
              "      <td>1</td>\n",
              "      <td>1</td>\n",
              "      <td>0.195122</td>\n",
              "      <td>2</td>\n",
              "      <td>0.104167</td>\n",
              "      <td>0.284483</td>\n",
              "      <td>1.0</td>\n",
              "      <td>0.0</td>\n",
              "      <td>0.0</td>\n",
              "      <td>1.0</td>\n",
              "      <td>1</td>\n",
              "      <td>2.0</td>\n",
              "    </tr>\n",
              "    <tr>\n",
              "      <th>1</th>\n",
              "      <td>1</td>\n",
              "      <td>0.792414</td>\n",
              "      <td>0</td>\n",
              "      <td>0.680890</td>\n",
              "      <td>1</td>\n",
              "      <td>2</td>\n",
              "      <td>0.670244</td>\n",
              "      <td>2</td>\n",
              "      <td>0.760417</td>\n",
              "      <td>0.564843</td>\n",
              "      <td>0.0</td>\n",
              "      <td>1.0</td>\n",
              "      <td>1.0</td>\n",
              "      <td>0.0</td>\n",
              "      <td>1</td>\n",
              "      <td>1.0</td>\n",
              "    </tr>\n",
              "    <tr>\n",
              "      <th>2</th>\n",
              "      <td>1</td>\n",
              "      <td>0.497011</td>\n",
              "      <td>0</td>\n",
              "      <td>0.510708</td>\n",
              "      <td>0</td>\n",
              "      <td>0</td>\n",
              "      <td>0.341463</td>\n",
              "      <td>0</td>\n",
              "      <td>0.520833</td>\n",
              "      <td>0.247001</td>\n",
              "      <td>1.0</td>\n",
              "      <td>0.0</td>\n",
              "      <td>1.0</td>\n",
              "      <td>0.0</td>\n",
              "      <td>1</td>\n",
              "      <td>2.0</td>\n",
              "    </tr>\n",
              "    <tr>\n",
              "      <th>3</th>\n",
              "      <td>1</td>\n",
              "      <td>0.311482</td>\n",
              "      <td>0</td>\n",
              "      <td>0.247117</td>\n",
              "      <td>0</td>\n",
              "      <td>2</td>\n",
              "      <td>0.048780</td>\n",
              "      <td>2</td>\n",
              "      <td>0.333333</td>\n",
              "      <td>0.308096</td>\n",
              "      <td>1.0</td>\n",
              "      <td>0.0</td>\n",
              "      <td>0.0</td>\n",
              "      <td>1.0</td>\n",
              "      <td>0</td>\n",
              "      <td>0.0</td>\n",
              "    </tr>\n",
              "    <tr>\n",
              "      <th>4</th>\n",
              "      <td>1</td>\n",
              "      <td>0.925788</td>\n",
              "      <td>0</td>\n",
              "      <td>0.602965</td>\n",
              "      <td>0</td>\n",
              "      <td>1</td>\n",
              "      <td>0.568293</td>\n",
              "      <td>0</td>\n",
              "      <td>0.975000</td>\n",
              "      <td>0.160795</td>\n",
              "      <td>1.0</td>\n",
              "      <td>0.0</td>\n",
              "      <td>1.0</td>\n",
              "      <td>0.0</td>\n",
              "      <td>1</td>\n",
              "      <td>3.0</td>\n",
              "    </tr>\n",
              "  </tbody>\n",
              "</table>\n",
              "</div>\n",
              "    <div class=\"colab-df-buttons\">\n",
              "\n",
              "  <div class=\"colab-df-container\">\n",
              "    <button class=\"colab-df-convert\" onclick=\"convertToInteractive('df-d869268e-73fd-41f8-8f60-9324fc5ff383')\"\n",
              "            title=\"Convert this dataframe to an interactive table.\"\n",
              "            style=\"display:none;\">\n",
              "\n",
              "  <svg xmlns=\"http://www.w3.org/2000/svg\" height=\"24px\" viewBox=\"0 -960 960 960\">\n",
              "    <path d=\"M120-120v-720h720v720H120Zm60-500h600v-160H180v160Zm220 220h160v-160H400v160Zm0 220h160v-160H400v160ZM180-400h160v-160H180v160Zm440 0h160v-160H620v160ZM180-180h160v-160H180v160Zm440 0h160v-160H620v160Z\"/>\n",
              "  </svg>\n",
              "    </button>\n",
              "\n",
              "  <style>\n",
              "    .colab-df-container {\n",
              "      display:flex;\n",
              "      gap: 12px;\n",
              "    }\n",
              "\n",
              "    .colab-df-convert {\n",
              "      background-color: #E8F0FE;\n",
              "      border: none;\n",
              "      border-radius: 50%;\n",
              "      cursor: pointer;\n",
              "      display: none;\n",
              "      fill: #1967D2;\n",
              "      height: 32px;\n",
              "      padding: 0 0 0 0;\n",
              "      width: 32px;\n",
              "    }\n",
              "\n",
              "    .colab-df-convert:hover {\n",
              "      background-color: #E2EBFA;\n",
              "      box-shadow: 0px 1px 2px rgba(60, 64, 67, 0.3), 0px 1px 3px 1px rgba(60, 64, 67, 0.15);\n",
              "      fill: #174EA6;\n",
              "    }\n",
              "\n",
              "    .colab-df-buttons div {\n",
              "      margin-bottom: 4px;\n",
              "    }\n",
              "\n",
              "    [theme=dark] .colab-df-convert {\n",
              "      background-color: #3B4455;\n",
              "      fill: #D2E3FC;\n",
              "    }\n",
              "\n",
              "    [theme=dark] .colab-df-convert:hover {\n",
              "      background-color: #434B5C;\n",
              "      box-shadow: 0px 1px 3px 1px rgba(0, 0, 0, 0.15);\n",
              "      filter: drop-shadow(0px 1px 2px rgba(0, 0, 0, 0.3));\n",
              "      fill: #FFFFFF;\n",
              "    }\n",
              "  </style>\n",
              "\n",
              "    <script>\n",
              "      const buttonEl =\n",
              "        document.querySelector('#df-d869268e-73fd-41f8-8f60-9324fc5ff383 button.colab-df-convert');\n",
              "      buttonEl.style.display =\n",
              "        google.colab.kernel.accessAllowed ? 'block' : 'none';\n",
              "\n",
              "      async function convertToInteractive(key) {\n",
              "        const element = document.querySelector('#df-d869268e-73fd-41f8-8f60-9324fc5ff383');\n",
              "        const dataTable =\n",
              "          await google.colab.kernel.invokeFunction('convertToInteractive',\n",
              "                                                    [key], {});\n",
              "        if (!dataTable) return;\n",
              "\n",
              "        const docLinkHtml = 'Like what you see? Visit the ' +\n",
              "          '<a target=\"_blank\" href=https://colab.research.google.com/notebooks/data_table.ipynb>data table notebook</a>'\n",
              "          + ' to learn more about interactive tables.';\n",
              "        element.innerHTML = '';\n",
              "        dataTable['output_type'] = 'display_data';\n",
              "        await google.colab.output.renderOutput(dataTable, element);\n",
              "        const docLink = document.createElement('div');\n",
              "        docLink.innerHTML = docLinkHtml;\n",
              "        element.appendChild(docLink);\n",
              "      }\n",
              "    </script>\n",
              "  </div>\n",
              "\n",
              "\n",
              "<div id=\"df-8c7a3fd5-e6f4-41b6-bcc2-889258b056cb\">\n",
              "  <button class=\"colab-df-quickchart\" onclick=\"quickchart('df-8c7a3fd5-e6f4-41b6-bcc2-889258b056cb')\"\n",
              "            title=\"Suggest charts\"\n",
              "            style=\"display:none;\">\n",
              "\n",
              "<svg xmlns=\"http://www.w3.org/2000/svg\" height=\"24px\"viewBox=\"0 0 24 24\"\n",
              "     width=\"24px\">\n",
              "    <g>\n",
              "        <path d=\"M19 3H5c-1.1 0-2 .9-2 2v14c0 1.1.9 2 2 2h14c1.1 0 2-.9 2-2V5c0-1.1-.9-2-2-2zM9 17H7v-7h2v7zm4 0h-2V7h2v10zm4 0h-2v-4h2v4z\"/>\n",
              "    </g>\n",
              "</svg>\n",
              "  </button>\n",
              "\n",
              "<style>\n",
              "  .colab-df-quickchart {\n",
              "      --bg-color: #E8F0FE;\n",
              "      --fill-color: #1967D2;\n",
              "      --hover-bg-color: #E2EBFA;\n",
              "      --hover-fill-color: #174EA6;\n",
              "      --disabled-fill-color: #AAA;\n",
              "      --disabled-bg-color: #DDD;\n",
              "  }\n",
              "\n",
              "  [theme=dark] .colab-df-quickchart {\n",
              "      --bg-color: #3B4455;\n",
              "      --fill-color: #D2E3FC;\n",
              "      --hover-bg-color: #434B5C;\n",
              "      --hover-fill-color: #FFFFFF;\n",
              "      --disabled-bg-color: #3B4455;\n",
              "      --disabled-fill-color: #666;\n",
              "  }\n",
              "\n",
              "  .colab-df-quickchart {\n",
              "    background-color: var(--bg-color);\n",
              "    border: none;\n",
              "    border-radius: 50%;\n",
              "    cursor: pointer;\n",
              "    display: none;\n",
              "    fill: var(--fill-color);\n",
              "    height: 32px;\n",
              "    padding: 0;\n",
              "    width: 32px;\n",
              "  }\n",
              "\n",
              "  .colab-df-quickchart:hover {\n",
              "    background-color: var(--hover-bg-color);\n",
              "    box-shadow: 0 1px 2px rgba(60, 64, 67, 0.3), 0 1px 3px 1px rgba(60, 64, 67, 0.15);\n",
              "    fill: var(--button-hover-fill-color);\n",
              "  }\n",
              "\n",
              "  .colab-df-quickchart-complete:disabled,\n",
              "  .colab-df-quickchart-complete:disabled:hover {\n",
              "    background-color: var(--disabled-bg-color);\n",
              "    fill: var(--disabled-fill-color);\n",
              "    box-shadow: none;\n",
              "  }\n",
              "\n",
              "  .colab-df-spinner {\n",
              "    border: 2px solid var(--fill-color);\n",
              "    border-color: transparent;\n",
              "    border-bottom-color: var(--fill-color);\n",
              "    animation:\n",
              "      spin 1s steps(1) infinite;\n",
              "  }\n",
              "\n",
              "  @keyframes spin {\n",
              "    0% {\n",
              "      border-color: transparent;\n",
              "      border-bottom-color: var(--fill-color);\n",
              "      border-left-color: var(--fill-color);\n",
              "    }\n",
              "    20% {\n",
              "      border-color: transparent;\n",
              "      border-left-color: var(--fill-color);\n",
              "      border-top-color: var(--fill-color);\n",
              "    }\n",
              "    30% {\n",
              "      border-color: transparent;\n",
              "      border-left-color: var(--fill-color);\n",
              "      border-top-color: var(--fill-color);\n",
              "      border-right-color: var(--fill-color);\n",
              "    }\n",
              "    40% {\n",
              "      border-color: transparent;\n",
              "      border-right-color: var(--fill-color);\n",
              "      border-top-color: var(--fill-color);\n",
              "    }\n",
              "    60% {\n",
              "      border-color: transparent;\n",
              "      border-right-color: var(--fill-color);\n",
              "    }\n",
              "    80% {\n",
              "      border-color: transparent;\n",
              "      border-right-color: var(--fill-color);\n",
              "      border-bottom-color: var(--fill-color);\n",
              "    }\n",
              "    90% {\n",
              "      border-color: transparent;\n",
              "      border-bottom-color: var(--fill-color);\n",
              "    }\n",
              "  }\n",
              "</style>\n",
              "\n",
              "  <script>\n",
              "    async function quickchart(key) {\n",
              "      const quickchartButtonEl =\n",
              "        document.querySelector('#' + key + ' button');\n",
              "      quickchartButtonEl.disabled = true;  // To prevent multiple clicks.\n",
              "      quickchartButtonEl.classList.add('colab-df-spinner');\n",
              "      try {\n",
              "        const charts = await google.colab.kernel.invokeFunction(\n",
              "            'suggestCharts', [key], {});\n",
              "      } catch (error) {\n",
              "        console.error('Error during call to suggestCharts:', error);\n",
              "      }\n",
              "      quickchartButtonEl.classList.remove('colab-df-spinner');\n",
              "      quickchartButtonEl.classList.add('colab-df-quickchart-complete');\n",
              "    }\n",
              "    (() => {\n",
              "      let quickchartButtonEl =\n",
              "        document.querySelector('#df-8c7a3fd5-e6f4-41b6-bcc2-889258b056cb button');\n",
              "      quickchartButtonEl.style.display =\n",
              "        google.colab.kernel.accessAllowed ? 'block' : 'none';\n",
              "    })();\n",
              "  </script>\n",
              "</div>\n",
              "\n",
              "    </div>\n",
              "  </div>\n"
            ],
            "application/vnd.google.colaboratory.intrinsic+json": {
              "type": "dataframe",
              "variable_name": "df",
              "summary": "{\n  \"name\": \"df\",\n  \"rows\": 215,\n  \"fields\": [\n    {\n      \"column\": \"gender\",\n      \"properties\": {\n        \"dtype\": \"number\",\n        \"std\": 0,\n        \"min\": 0,\n        \"max\": 1,\n        \"num_unique_values\": 2,\n        \"samples\": [\n          0,\n          1\n        ],\n        \"semantic_type\": \"\",\n        \"description\": \"\"\n      }\n    },\n    {\n      \"column\": \"ssc_p\",\n      \"properties\": {\n        \"dtype\": \"number\",\n        \"std\": 0.22319532876172854,\n        \"min\": 0.0,\n        \"max\": 1.0,\n        \"num_unique_values\": 103,\n        \"samples\": [\n          0.6825396825396826,\n          0.6817151102865386\n        ],\n        \"semantic_type\": \"\",\n        \"description\": \"\"\n      }\n    },\n    {\n      \"column\": \"ssc_b\",\n      \"properties\": {\n        \"dtype\": \"number\",\n        \"std\": 0,\n        \"min\": 0,\n        \"max\": 1,\n        \"num_unique_values\": 2,\n        \"samples\": [\n          0,\n          1\n        ],\n        \"semantic_type\": \"\",\n        \"description\": \"\"\n      }\n    },\n    {\n      \"column\": \"hsc_p\",\n      \"properties\": {\n        \"dtype\": \"number\",\n        \"std\": 0.17953062862443134,\n        \"min\": 0.0,\n        \"max\": 1.0,\n        \"num_unique_values\": 97,\n        \"samples\": [\n          0.7413509060955519,\n          0.5963756177924218\n        ],\n        \"semantic_type\": \"\",\n        \"description\": \"\"\n      }\n    },\n    {\n      \"column\": \"hsc_b\",\n      \"properties\": {\n        \"dtype\": \"number\",\n        \"std\": 0,\n        \"min\": 0,\n        \"max\": 1,\n        \"num_unique_values\": 2,\n        \"samples\": [\n          0,\n          1\n        ],\n        \"semantic_type\": \"\",\n        \"description\": \"\"\n      }\n    },\n    {\n      \"column\": \"hsc_s\",\n      \"properties\": {\n        \"dtype\": \"number\",\n        \"std\": 0,\n        \"min\": 0,\n        \"max\": 2,\n        \"num_unique_values\": 3,\n        \"samples\": [\n          1,\n          2\n        ],\n        \"semantic_type\": \"\",\n        \"description\": \"\"\n      }\n    },\n    {\n      \"column\": \"degree_p\",\n      \"properties\": {\n        \"dtype\": \"number\",\n        \"std\": 0.1794815435936449,\n        \"min\": 0.0,\n        \"max\": 1.0000000000000002,\n        \"num_unique_values\": 89,\n        \"samples\": [\n          0.5297560975609756,\n          0.6341463414634148\n        ],\n        \"semantic_type\": \"\",\n        \"description\": \"\"\n      }\n    },\n    {\n      \"column\": \"degree_t\",\n      \"properties\": {\n        \"dtype\": \"number\",\n        \"std\": 0,\n        \"min\": 0,\n        \"max\": 2,\n        \"num_unique_values\": 3,\n        \"samples\": [\n          2,\n          0\n        ],\n        \"semantic_type\": \"\",\n        \"description\": \"\"\n      }\n    },\n    {\n      \"column\": \"apt_test_p\",\n      \"properties\": {\n        \"dtype\": \"number\",\n        \"std\": 0.2765824250344548,\n        \"min\": 0.0,\n        \"max\": 1.0,\n        \"num_unique_values\": 100,\n        \"samples\": [\n          0.9041666666666668,\n          0.3958333333333335\n        ],\n        \"semantic_type\": \"\",\n        \"description\": \"\"\n      }\n    },\n    {\n      \"column\": \"mba_p\",\n      \"properties\": {\n        \"dtype\": \"number\",\n        \"std\": 0.21864260047540485,\n        \"min\": 0.0,\n        \"max\": 1.0,\n        \"num_unique_values\": 205,\n        \"samples\": [\n          0.5041229385307346,\n          0.03748125937031488\n        ],\n        \"semantic_type\": \"\",\n        \"description\": \"\"\n      }\n    },\n    {\n      \"column\": \"workex_No\",\n      \"properties\": {\n        \"dtype\": \"number\",\n        \"std\": 0.47621086469636287,\n        \"min\": 0.0,\n        \"max\": 1.0,\n        \"num_unique_values\": 2,\n        \"samples\": [\n          0.0,\n          1.0\n        ],\n        \"semantic_type\": \"\",\n        \"description\": \"\"\n      }\n    },\n    {\n      \"column\": \"workex_Yes\",\n      \"properties\": {\n        \"dtype\": \"number\",\n        \"std\": 0.47621086469636287,\n        \"min\": 0.0,\n        \"max\": 1.0,\n        \"num_unique_values\": 2,\n        \"samples\": [\n          1.0,\n          0.0\n        ],\n        \"semantic_type\": \"\",\n        \"description\": \"\"\n      }\n    },\n    {\n      \"column\": \"specialisation_Mkt&HR\",\n      \"properties\": {\n        \"dtype\": \"number\",\n        \"std\": 0.4977672382044535,\n        \"min\": 0.0,\n        \"max\": 1.0,\n        \"num_unique_values\": 2,\n        \"samples\": [\n          1.0,\n          0.0\n        ],\n        \"semantic_type\": \"\",\n        \"description\": \"\"\n      }\n    },\n    {\n      \"column\": \"specialisation_Mkt&Fin\",\n      \"properties\": {\n        \"dtype\": \"number\",\n        \"std\": 0.4977672382044535,\n        \"min\": 0.0,\n        \"max\": 1.0,\n        \"num_unique_values\": 2,\n        \"samples\": [\n          0.0,\n          1.0\n        ],\n        \"semantic_type\": \"\",\n        \"description\": \"\"\n      }\n    },\n    {\n      \"column\": \"placed\",\n      \"properties\": {\n        \"dtype\": \"number\",\n        \"std\": 0,\n        \"min\": 0,\n        \"max\": 1,\n        \"num_unique_values\": 2,\n        \"samples\": [\n          0,\n          1\n        ],\n        \"semantic_type\": \"\",\n        \"description\": \"\"\n      }\n    },\n    {\n      \"column\": \"salary_band\",\n      \"properties\": {\n        \"dtype\": \"number\",\n        \"std\": 1.1395366579567379,\n        \"min\": 0.0,\n        \"max\": 5.0,\n        \"num_unique_values\": 6,\n        \"samples\": [\n          2.0,\n          1.0\n        ],\n        \"semantic_type\": \"\",\n        \"description\": \"\"\n      }\n    }\n  ]\n}"
            }
          },
          "metadata": {},
          "execution_count": 5
        }
      ]
    },
    {
      "cell_type": "code",
      "source": [
        "correlation_with_placed = df.corr()['placed']\n",
        "print(correlation_with_placed)"
      ],
      "metadata": {
        "colab": {
          "base_uri": "https://localhost:8080/"
        },
        "id": "zY1Q1FO2ApL8",
        "outputId": "fb8ecfdc-f7b8-48b3-88db-4aab0f4a5f6b"
      },
      "execution_count": 6,
      "outputs": [
        {
          "output_type": "stream",
          "name": "stdout",
          "text": [
            "gender                    0.090670\n",
            "ssc_p                     0.607889\n",
            "ssc_b                     0.037297\n",
            "hsc_p                     0.491228\n",
            "hsc_b                     0.016945\n",
            "hsc_s                     0.033442\n",
            "degree_p                  0.479861\n",
            "degree_t                 -0.020352\n",
            "apt_test_p                0.127639\n",
            "mba_p                     0.076922\n",
            "workex_No                -0.276060\n",
            "workex_Yes                0.276060\n",
            "specialisation_Mkt&HR     0.250655\n",
            "specialisation_Mkt&Fin   -0.250655\n",
            "placed                    1.000000\n",
            "salary_band               0.790013\n",
            "Name: placed, dtype: float64\n"
          ]
        }
      ]
    },
    {
      "cell_type": "code",
      "source": [
        "selected_columns = df.columns.difference(['placed'])\n",
        "correlation_with_salary = df[selected_columns].corrwith(df['salary_band'])\n",
        "print(correlation_with_salary)"
      ],
      "metadata": {
        "colab": {
          "base_uri": "https://localhost:8080/"
        },
        "id": "aLmdySgcAtE_",
        "outputId": "004ec65d-7701-4707-90ee-ab4eb745d812"
      },
      "execution_count": 7,
      "outputs": [
        {
          "output_type": "stream",
          "name": "stdout",
          "text": [
            "apt_test_p                0.169656\n",
            "degree_p                  0.388310\n",
            "degree_t                  0.100417\n",
            "gender                    0.166462\n",
            "hsc_b                     0.034632\n",
            "hsc_p                     0.421611\n",
            "hsc_s                     0.100293\n",
            "mba_p                     0.147027\n",
            "salary_band               1.000000\n",
            "specialisation_Mkt&Fin   -0.245613\n",
            "specialisation_Mkt&HR     0.245613\n",
            "ssc_b                     0.031572\n",
            "ssc_p                     0.507075\n",
            "workex_No                -0.286049\n",
            "workex_Yes                0.286049\n",
            "dtype: float64\n"
          ]
        }
      ]
    },
    {
      "cell_type": "code",
      "source": [
        "X_placement = df.drop(columns=['placed', 'salary_band'])\n",
        "y_placement = df['placed']\n",
        "\n",
        "X_salary = df.drop(columns=['placed'])\n",
        "y_salary = df['salary_band']"
      ],
      "metadata": {
        "id": "OSwsmDywB_d5"
      },
      "execution_count": 8,
      "outputs": []
    },
    {
      "cell_type": "code",
      "source": [
        "X_train_placement, X_test_placement, y_train_placement, y_test_placement = train_test_split(X_placement, y_placement, test_size=0.2, random_state=42)\n",
        "X_train_salary, X_test_salary, y_train_salary, y_test_salary = train_test_split(X_salary, y_salary, test_size=0.2, random_state=42)"
      ],
      "metadata": {
        "id": "iPtE5jdlCBT9"
      },
      "execution_count": 9,
      "outputs": []
    },
    {
      "cell_type": "code",
      "source": [
        "from sklearn.ensemble import RandomForestClassifier, RandomForestRegressor\n",
        "\n",
        "placement_model_rf = RandomForestClassifier(n_estimators=100, random_state=42)\n",
        "placement_model_rf.fit(X_train_placement, y_train_placement)\n",
        "\n",
        "salary_model_rf = RandomForestRegressor(n_estimators=100, random_state=42)\n",
        "salary_model_rf.fit(X_train_salary, y_train_salary)"
      ],
      "metadata": {
        "colab": {
          "base_uri": "https://localhost:8080/",
          "height": 74
        },
        "id": "JWNms5EuCHKq",
        "outputId": "372c2764-aa60-4aa5-938f-1c6778d7adb7"
      },
      "execution_count": 10,
      "outputs": [
        {
          "output_type": "execute_result",
          "data": {
            "text/plain": [
              "RandomForestRegressor(random_state=42)"
            ],
            "text/html": [
              "<style>#sk-container-id-1 {color: black;background-color: white;}#sk-container-id-1 pre{padding: 0;}#sk-container-id-1 div.sk-toggleable {background-color: white;}#sk-container-id-1 label.sk-toggleable__label {cursor: pointer;display: block;width: 100%;margin-bottom: 0;padding: 0.3em;box-sizing: border-box;text-align: center;}#sk-container-id-1 label.sk-toggleable__label-arrow:before {content: \"▸\";float: left;margin-right: 0.25em;color: #696969;}#sk-container-id-1 label.sk-toggleable__label-arrow:hover:before {color: black;}#sk-container-id-1 div.sk-estimator:hover label.sk-toggleable__label-arrow:before {color: black;}#sk-container-id-1 div.sk-toggleable__content {max-height: 0;max-width: 0;overflow: hidden;text-align: left;background-color: #f0f8ff;}#sk-container-id-1 div.sk-toggleable__content pre {margin: 0.2em;color: black;border-radius: 0.25em;background-color: #f0f8ff;}#sk-container-id-1 input.sk-toggleable__control:checked~div.sk-toggleable__content {max-height: 200px;max-width: 100%;overflow: auto;}#sk-container-id-1 input.sk-toggleable__control:checked~label.sk-toggleable__label-arrow:before {content: \"▾\";}#sk-container-id-1 div.sk-estimator input.sk-toggleable__control:checked~label.sk-toggleable__label {background-color: #d4ebff;}#sk-container-id-1 div.sk-label input.sk-toggleable__control:checked~label.sk-toggleable__label {background-color: #d4ebff;}#sk-container-id-1 input.sk-hidden--visually {border: 0;clip: rect(1px 1px 1px 1px);clip: rect(1px, 1px, 1px, 1px);height: 1px;margin: -1px;overflow: hidden;padding: 0;position: absolute;width: 1px;}#sk-container-id-1 div.sk-estimator {font-family: monospace;background-color: #f0f8ff;border: 1px dotted black;border-radius: 0.25em;box-sizing: border-box;margin-bottom: 0.5em;}#sk-container-id-1 div.sk-estimator:hover {background-color: #d4ebff;}#sk-container-id-1 div.sk-parallel-item::after {content: \"\";width: 100%;border-bottom: 1px solid gray;flex-grow: 1;}#sk-container-id-1 div.sk-label:hover label.sk-toggleable__label {background-color: #d4ebff;}#sk-container-id-1 div.sk-serial::before {content: \"\";position: absolute;border-left: 1px solid gray;box-sizing: border-box;top: 0;bottom: 0;left: 50%;z-index: 0;}#sk-container-id-1 div.sk-serial {display: flex;flex-direction: column;align-items: center;background-color: white;padding-right: 0.2em;padding-left: 0.2em;position: relative;}#sk-container-id-1 div.sk-item {position: relative;z-index: 1;}#sk-container-id-1 div.sk-parallel {display: flex;align-items: stretch;justify-content: center;background-color: white;position: relative;}#sk-container-id-1 div.sk-item::before, #sk-container-id-1 div.sk-parallel-item::before {content: \"\";position: absolute;border-left: 1px solid gray;box-sizing: border-box;top: 0;bottom: 0;left: 50%;z-index: -1;}#sk-container-id-1 div.sk-parallel-item {display: flex;flex-direction: column;z-index: 1;position: relative;background-color: white;}#sk-container-id-1 div.sk-parallel-item:first-child::after {align-self: flex-end;width: 50%;}#sk-container-id-1 div.sk-parallel-item:last-child::after {align-self: flex-start;width: 50%;}#sk-container-id-1 div.sk-parallel-item:only-child::after {width: 0;}#sk-container-id-1 div.sk-dashed-wrapped {border: 1px dashed gray;margin: 0 0.4em 0.5em 0.4em;box-sizing: border-box;padding-bottom: 0.4em;background-color: white;}#sk-container-id-1 div.sk-label label {font-family: monospace;font-weight: bold;display: inline-block;line-height: 1.2em;}#sk-container-id-1 div.sk-label-container {text-align: center;}#sk-container-id-1 div.sk-container {/* jupyter's `normalize.less` sets `[hidden] { display: none; }` but bootstrap.min.css set `[hidden] { display: none !important; }` so we also need the `!important` here to be able to override the default hidden behavior on the sphinx rendered scikit-learn.org. See: https://github.com/scikit-learn/scikit-learn/issues/21755 */display: inline-block !important;position: relative;}#sk-container-id-1 div.sk-text-repr-fallback {display: none;}</style><div id=\"sk-container-id-1\" class=\"sk-top-container\"><div class=\"sk-text-repr-fallback\"><pre>RandomForestRegressor(random_state=42)</pre><b>In a Jupyter environment, please rerun this cell to show the HTML representation or trust the notebook. <br />On GitHub, the HTML representation is unable to render, please try loading this page with nbviewer.org.</b></div><div class=\"sk-container\" hidden><div class=\"sk-item\"><div class=\"sk-estimator sk-toggleable\"><input class=\"sk-toggleable__control sk-hidden--visually\" id=\"sk-estimator-id-1\" type=\"checkbox\" checked><label for=\"sk-estimator-id-1\" class=\"sk-toggleable__label sk-toggleable__label-arrow\">RandomForestRegressor</label><div class=\"sk-toggleable__content\"><pre>RandomForestRegressor(random_state=42)</pre></div></div></div></div></div>"
            ]
          },
          "metadata": {},
          "execution_count": 10
        }
      ]
    },
    {
      "cell_type": "code",
      "source": [
        "placement_predictions_rf = placement_model_rf.predict(X_test_placement)\n",
        "placement_accuracy_rf = accuracy_score(y_test_placement, placement_predictions_rf)\n"
      ],
      "metadata": {
        "id": "D5aYPmHWCPz0"
      },
      "execution_count": 11,
      "outputs": []
    },
    {
      "cell_type": "code",
      "source": [
        "print(\"Placement Prediction Accuracy (Random Forest):\", placement_accuracy_rf)\n",
        "print(\"Classification Report (Random Forest):\")\n",
        "print(classification_report(y_test_placement, placement_predictions_rf))\n",
        "print(\"Confusion Matrix (Random Forest):\")\n",
        "print(confusion_matrix(y_test_placement, placement_predictions_rf))"
      ],
      "metadata": {
        "colab": {
          "base_uri": "https://localhost:8080/"
        },
        "id": "me3X4KgcCS7H",
        "outputId": "eb4f89ab-27e1-46d6-f19a-62c1f3780268"
      },
      "execution_count": 12,
      "outputs": [
        {
          "output_type": "stream",
          "name": "stdout",
          "text": [
            "Placement Prediction Accuracy (Random Forest): 0.7906976744186046\n",
            "Classification Report (Random Forest):\n",
            "              precision    recall  f1-score   support\n",
            "\n",
            "           0       0.64      0.58      0.61        12\n",
            "           1       0.84      0.87      0.86        31\n",
            "\n",
            "    accuracy                           0.79        43\n",
            "   macro avg       0.74      0.73      0.73        43\n",
            "weighted avg       0.79      0.79      0.79        43\n",
            "\n",
            "Confusion Matrix (Random Forest):\n",
            "[[ 7  5]\n",
            " [ 4 27]]\n"
          ]
        }
      ]
    },
    {
      "cell_type": "code",
      "source": [
        "salary_predictions_rf = salary_model_rf.predict(X_test_salary)\n",
        "salary_rmse_rf = mean_squared_error(y_test_salary, salary_predictions_rf, squared=False)\n",
        "print(\"Salary Band Prediction RMSE (Random Forest):\", salary_rmse_rf)"
      ],
      "metadata": {
        "colab": {
          "base_uri": "https://localhost:8080/"
        },
        "id": "juTG4myaCV6j",
        "outputId": "6310c1ad-608c-4375-814e-b96cc71694e5"
      },
      "execution_count": 13,
      "outputs": [
        {
          "output_type": "stream",
          "name": "stdout",
          "text": [
            "Salary Band Prediction RMSE (Random Forest): 0.0869375611279942\n"
          ]
        }
      ]
    },
    {
      "cell_type": "code",
      "source": [
        "\n",
        "plt.figure(figsize=(10, 6))\n",
        "feat_importances_rf = pd.Series(placement_model_rf.feature_importances_, index=X_train_placement.columns)\n",
        "feat_importances_rf.nlargest(10).plot(kind='barh')\n",
        "plt.title('Feature Importance for Placement Prediction (Random Forest)')\n",
        "plt.xlabel('Relative Importance')\n",
        "plt.ylabel('Features')\n",
        "plt.show()\n"
      ],
      "metadata": {
        "colab": {
          "base_uri": "https://localhost:8080/",
          "height": 564
        },
        "id": "FZLce0M9GIp1",
        "outputId": "917dc34b-c61e-4df0-be23-2b8dff59b5b6"
      },
      "execution_count": 15,
      "outputs": [
        {
          "output_type": "display_data",
          "data": {
            "text/plain": [
              "<Figure size 1000x600 with 1 Axes>"
            ],
            "image/png": "[encoded data removed]"
          },
          "metadata": {}
        }
      ]
    },
    {
      "cell_type": "code",
      "source": [
        "from sklearn.metrics import roc_curve, auc\n",
        "fpr_rf, tpr_rf, thresholds_rf = roc_curve(y_test_placement, placement_model_rf.predict_proba(X_test_placement)[:,1])\n",
        "roc_auc_rf = auc(fpr_rf, tpr_rf)\n",
        "plt.figure()\n",
        "plt.plot(fpr_rf, tpr_rf, color='blue', lw=2, label='ROC curve (AUC = %0.2f)' % roc_auc_rf)\n",
        "plt.plot([0, 1], [0, 1], color='gray', lw=2, linestyle='--', label='Random')\n",
        "plt.xlim([0.0, 1.0])\n",
        "plt.ylim([0.0, 1.05])\n",
        "plt.xlabel('False Positive Rate')\n",
        "plt.ylabel('True Positive Rate')\n",
        "plt.title('ROC Curve for Placement Prediction (Random Forest)')\n",
        "plt.legend(loc=\"lower right\")\n",
        "plt.show()\n"
      ],
      "metadata": {
        "colab": {
          "base_uri": "https://localhost:8080/",
          "height": 472
        },
        "id": "pGH883X4GQBJ",
        "outputId": "55079cbe-6424-4fbc-91b4-99034103f59b"
      },
      "execution_count": 16,
      "outputs": [
        {
          "output_type": "display_data",
          "data": {
            "text/plain": [
              "<Figure size 640x480 with 1 Axes>"
            ],
            "image/png": "[encoded data removed]"
          },
          "metadata": {}
        }
      ]
    },
    {
      "cell_type": "code",
      "source": [
        "\n",
        "from sklearn.metrics import confusion_matrix\n",
        "cm_rf = confusion_matrix(y_test_placement, placement_predictions_rf)\n",
        "plt.figure(figsize=(8, 6))\n",
        "sns.heatmap(cm_rf, annot=True, cmap='Blues', fmt='d', xticklabels=['Not Placed', 'Placed'], yticklabels=['Not Placed', 'Placed'])\n",
        "plt.xlabel('Predicted')\n",
        "plt.ylabel('Actual')\n",
        "plt.title('Confusion Matrix for Placement Prediction (Random Forest)')\n",
        "plt.show()\n"
      ],
      "metadata": {
        "colab": {
          "base_uri": "https://localhost:8080/",
          "height": 564
        },
        "id": "oQ9Wdx1_G00w",
        "outputId": "da21d278-3f8c-4a2b-c58e-80b14dd2cdbf"
      },
      "execution_count": 19,
      "outputs": [
        {
          "output_type": "display_data",
          "data": {
            "text/plain": [
              "<Figure size 800x600 with 2 Axes>"
            ],
            "image/png": "[encoded data removed]"
          },
          "metadata": {}
        }
      ]
    }
  ]
}